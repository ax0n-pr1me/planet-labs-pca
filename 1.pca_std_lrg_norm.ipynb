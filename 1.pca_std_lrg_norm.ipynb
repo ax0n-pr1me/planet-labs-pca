{
 "cells": [
  {
   "cell_type": "markdown",
   "id": "a770f543",
   "metadata": {},
   "source": [
    "# PCA for Satellite Data"
   ]
  },
  {
   "cell_type": "code",
   "execution_count": 1,
   "id": "fd8cf3da",
   "metadata": {},
   "outputs": [],
   "source": [
    "from datetime import datetime\n",
    "start = datetime.now()\n",
    "\n",
    "import rasterio\n",
    "import dask.array as da\n",
    "import numpy as np\n",
    "import pandas as pd"
   ]
  },
  {
   "cell_type": "code",
   "execution_count": 2,
   "id": "6d9a4524",
   "metadata": {},
   "outputs": [],
   "source": [
    "filename = './data/small.tif'\n",
    "src = rasterio.open(filename)\n",
    "\n",
    "band_names = ['coastal_blue',\n",
    "              'blue',\n",
    "              'green_i',\n",
    "              'green',\n",
    "              'yellow',\n",
    "              'red',\n",
    "              'red_edge',\n",
    "              'nir']\n",
    "\n",
    "band_numbers = ['1', '2', '3', '4', '5', '6', '7', '8']\n",
    "pc_names = ['PC1', 'PC2', 'PC3', 'PC4', 'PC5', 'PC6', 'PC7', 'PC8']\n",
    "\n",
    "n_bands = src.meta['count']\n",
    "img_shape = src.shape"
   ]
  },
  {
   "cell_type": "code",
   "execution_count": 3,
   "id": "a5713bf8-6614-49f7-9eb3-e1a41f9e1d14",
   "metadata": {},
   "outputs": [],
   "source": [
    "# Read the grid values into dask/numpy arrays\n",
    "bnd_list = []\n",
    "\n",
    "for i in range(n_bands):\n",
    "    bnd = da.from_array(src.read(i+1))\n",
    "    bnd_list.append(bnd)\n",
    "\n",
    "dask_band_stack = da.dstack(bnd_list)\n",
    "dask_band_stack = dask_band_stack.rechunk('auto')\n",
    "src_sr = dask_band_stack.compute()"
   ]
  },
  {
   "cell_type": "code",
   "execution_count": 4,
   "id": "ee200862",
   "metadata": {},
   "outputs": [],
   "source": [
    "# # Rescaling (min-max normalization)\n",
    "flat_bnds = np.zeros((src_sr[:, :, 0].size, n_bands))\n",
    "\n",
    "for i in range(n_bands):\n",
    "    bnd_i = src_sr[:, :, i].flatten()\n",
    "    bnd_norm = 1024*((bnd_i - bnd_i.min())/(bnd_i.max() - bnd_i.min()))\n",
    "    flat_bnds[:, i] = bnd_norm"
   ]
  },
  {
   "cell_type": "code",
   "execution_count": 5,
   "id": "4dac5492",
   "metadata": {},
   "outputs": [],
   "source": [
    "cor_lists = np.corrcoef(flat_bnds.transpose())"
   ]
  },
  {
   "cell_type": "code",
   "execution_count": 6,
   "id": "3cbf8980-8d9b-4646-a93d-c6c6483cf577",
   "metadata": {},
   "outputs": [],
   "source": [
    "EigVal_cor, EigVec_cor = np.linalg.eig(cor_lists)"
   ]
  },
  {
   "cell_type": "code",
   "execution_count": 7,
   "id": "95b7779c",
   "metadata": {},
   "outputs": [],
   "source": [
    "\n",
    "std_eigVec_table = pd.DataFrame(\n",
    "    EigVec_cor,\n",
    "    columns=band_numbers,\n",
    "    index=band_numbers\n",
    ")\n",
    "\n",
    "std_eigVec_table = round(std_eigVec_table, 3)"
   ]
  },
  {
   "cell_type": "code",
   "execution_count": 8,
   "id": "1faa374d",
   "metadata": {},
   "outputs": [],
   "source": [
    "order2 = EigVal_cor.argsort()[::-1]\n",
    "EigVal_cor = EigVal_cor[order2]"
   ]
  },
  {
   "cell_type": "code",
   "execution_count": 9,
   "id": "a71b3058",
   "metadata": {},
   "outputs": [],
   "source": [
    "pc_values_cor = (EigVal_cor/sum(EigVal_cor)*100).round(2)"
   ]
  },
  {
   "cell_type": "code",
   "execution_count": 10,
   "id": "c176927b",
   "metadata": {},
   "outputs": [],
   "source": [
    "## Create the PCA components for the Imagery\n",
    "PC_std = np.matmul(flat_bnds, EigVec_cor)  # cross product"
   ]
  },
  {
   "cell_type": "code",
   "execution_count": 11,
   "id": "30004119",
   "metadata": {},
   "outputs": [],
   "source": [
    "# Rescaling (min-max normalization)\n",
    "PC_nrm = np.zeros(PC_std.shape)\n",
    "\n",
    "for i in range(n_bands):\n",
    "    PC_i = PC_std[:, i]\n",
    "    pc_norm_mm = 1024*(PC_i - PC_i.min())/(PC_i.max() - PC_i.min())\n",
    "    PC_nrm[:, i] = pc_norm_mm\n"
   ]
  },
  {
   "cell_type": "code",
   "execution_count": 12,
   "id": "825bcb65",
   "metadata": {},
   "outputs": [],
   "source": [
    "# Reshaping\n",
    "PC_std_2d_norm = np.zeros((img_shape[0], img_shape[1], n_bands))\n",
    "\n",
    "for i in range(n_bands):\n",
    "    PC_std_2d_norm[:, :, i] = PC_nrm[:, i].reshape(-1, img_shape[1])"
   ]
  },
  {
   "cell_type": "code",
   "execution_count": 13,
   "id": "0c8cc96b-c1b4-410b-b165-b0558e484b37",
   "metadata": {},
   "outputs": [],
   "source": [
    "# Set spatial characteristics of the output object to mirror the input\n",
    "kwargs = src.meta\n",
    "kwargs.update(\n",
    "    dtype=rasterio.float32,\n",
    "    count=8)"
   ]
  },
  {
   "cell_type": "code",
   "execution_count": 14,
   "id": "60cff946",
   "metadata": {},
   "outputs": [],
   "source": [
    "# band, row, col\n",
    "tmp_std_norm = np.moveaxis(PC_std_2d_norm, [0, 1, 2], [2, 1, 0])\n",
    "PC_img_std_norm = np.swapaxes(tmp_std_norm, 1, 2)"
   ]
  },
  {
   "cell_type": "code",
   "execution_count": 15,
   "id": "1cf87ea5",
   "metadata": {},
   "outputs": [],
   "source": [
    "# Write band calculations to a new raster file\n",
    "with rasterio.open('./data/analytic/0_derived/PC_img_std_norm-LRG.tif', 'w', **kwargs) as dst:\n",
    "    dst.write(PC_img_std_norm.astype(rasterio.float32))"
   ]
  },
  {
   "cell_type": "code",
   "execution_count": 16,
   "id": "a3f708b3",
   "metadata": {},
   "outputs": [
    {
     "data": {
      "text/plain": [
       "98.306884"
      ]
     },
     "execution_count": 16,
     "metadata": {},
     "output_type": "execute_result"
    }
   ],
   "source": [
    "end = datetime.now()\n",
    "diff = end-start\n",
    "diff.total_seconds()\n"
   ]
  }
 ],
 "metadata": {
  "kernelspec": {
   "display_name": "Python 3 (ipykernel)",
   "language": "python",
   "name": "python3"
  },
  "language_info": {
   "codemirror_mode": {
    "name": "ipython",
    "version": 3
   },
   "file_extension": ".py",
   "mimetype": "text/x-python",
   "name": "python",
   "nbconvert_exporter": "python",
   "pygments_lexer": "ipython3",
   "version": "3.10.8"
  },
  "vscode": {
   "interpreter": {
    "hash": "fbc47f62b4d0d187973ce0fc805b0a55dad4b87fba0f4352fd1b6d27f3463685"
   }
  }
 },
 "nbformat": 4,
 "nbformat_minor": 5
}
